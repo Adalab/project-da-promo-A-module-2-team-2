{
 "cells": [
  {
   "cell_type": "code",
   "execution_count": null,
   "metadata": {},
   "outputs": [],
   "source": [
    "import pandas as pd\n",
    "import xml.etree.ElementTree as ET\n",
    "import numpy as np\n",
    "import matplotlib.pyplot as plt\n",
    "import seaborn as sns\n"
   ]
  },
  {
   "cell_type": "code",
   "execution_count": null,
   "metadata": {},
   "outputs": [],
   "source": [
    "df=pd.read_csv(\"./Prueba new csv.csv\",index_col=0)\n"
   ]
  },
  {
   "cell_type": "code",
   "execution_count": null,
   "metadata": {},
   "outputs": [
    {
     "data": {
      "text/html": [
       "<div>\n",
       "<style scoped>\n",
       "    .dataframe tbody tr th:only-of-type {\n",
       "        vertical-align: middle;\n",
       "    }\n",
       "\n",
       "    .dataframe tbody tr th {\n",
       "        vertical-align: top;\n",
       "    }\n",
       "\n",
       "    .dataframe thead th {\n",
       "        text-align: right;\n",
       "    }\n",
       "</style>\n",
       "<table border=\"1\" class=\"dataframe\">\n",
       "  <thead>\n",
       "    <tr style=\"text-align: right;\">\n",
       "      <th></th>\n",
       "      <th>edad</th>\n",
       "      <th>genero</th>\n",
       "      <th>pais</th>\n",
       "      <th>educacion</th>\n",
       "      <th>perfil_profesional</th>\n",
       "      <th>experiencia_programando</th>\n",
       "      <th>herramientas_trabajo</th>\n",
       "      <th>año_uso_machine_learning</th>\n",
       "      <th>industria_actual</th>\n",
       "      <th>tamaño_compañía</th>\n",
       "      <th>...</th>\n",
       "      <th>rrss_reddit</th>\n",
       "      <th>rrss_kaggle</th>\n",
       "      <th>rrss_forums</th>\n",
       "      <th>rrss_yotube</th>\n",
       "      <th>rrss_podcast</th>\n",
       "      <th>rrss_blogs</th>\n",
       "      <th>rrss_journal</th>\n",
       "      <th>rrss_slackcommunity</th>\n",
       "      <th>rrss_none</th>\n",
       "      <th>rrss_others</th>\n",
       "    </tr>\n",
       "  </thead>\n",
       "  <tbody>\n",
       "    <tr>\n",
       "      <th>0</th>\n",
       "      <td>50-54</td>\n",
       "      <td>Man</td>\n",
       "      <td>India</td>\n",
       "      <td>Bachelor’s degree</td>\n",
       "      <td>Other</td>\n",
       "      <td>5-10 years</td>\n",
       "      <td>A laptop</td>\n",
       "      <td>5-10 years</td>\n",
       "      <td>Manufacturing/Fabrication</td>\n",
       "      <td>50-249 employees</td>\n",
       "      <td>...</td>\n",
       "      <td>NaN</td>\n",
       "      <td>Kaggle (notebooks, forums, etc)</td>\n",
       "      <td>NaN</td>\n",
       "      <td>YouTube (Kaggle YouTube, Cloud AI Adventures, ...</td>\n",
       "      <td>Podcasts (Chai Time Data Science, O’Reilly Dat...</td>\n",
       "      <td>Blogs (Towards Data Science, Analytics Vidhya,...</td>\n",
       "      <td>Journal Publications (peer-reviewed journals, ...</td>\n",
       "      <td>NaN</td>\n",
       "      <td>NaN</td>\n",
       "      <td>NaN</td>\n",
       "    </tr>\n",
       "    <tr>\n",
       "      <th>1</th>\n",
       "      <td>50-54</td>\n",
       "      <td>Man</td>\n",
       "      <td>Indonesia</td>\n",
       "      <td>Master’s degree</td>\n",
       "      <td>Program/Project Manager</td>\n",
       "      <td>20+ years</td>\n",
       "      <td>A cloud computing platform (AWS, Azure, GCP, h...</td>\n",
       "      <td>&lt; 1 year</td>\n",
       "      <td>Manufacturing/Fabrication</td>\n",
       "      <td>1000-9,999 employees</td>\n",
       "      <td>...</td>\n",
       "      <td>NaN</td>\n",
       "      <td>NaN</td>\n",
       "      <td>NaN</td>\n",
       "      <td>NaN</td>\n",
       "      <td>NaN</td>\n",
       "      <td>NaN</td>\n",
       "      <td>Journal Publications (peer-reviewed journals, ...</td>\n",
       "      <td>NaN</td>\n",
       "      <td>NaN</td>\n",
       "      <td>NaN</td>\n",
       "    </tr>\n",
       "  </tbody>\n",
       "</table>\n",
       "<p>2 rows × 47 columns</p>\n",
       "</div>"
      ],
      "text/plain": [
       "    edad genero       pais          educacion       perfil_profesional  \\\n",
       "0  50-54    Man      India  Bachelor’s degree                    Other   \n",
       "1  50-54    Man  Indonesia    Master’s degree  Program/Project Manager   \n",
       "\n",
       "  experiencia_programando                               herramientas_trabajo  \\\n",
       "0              5-10 years                                           A laptop   \n",
       "1               20+ years  A cloud computing platform (AWS, Azure, GCP, h...   \n",
       "\n",
       "  año_uso_machine_learning           industria_actual       tamaño_compañía  \\\n",
       "0               5-10 years  Manufacturing/Fabrication      50-249 employees   \n",
       "1                 < 1 year  Manufacturing/Fabrication  1000-9,999 employees   \n",
       "\n",
       "   ... rrss_reddit                      rrss_kaggle rrss_forums  \\\n",
       "0  ...         NaN  Kaggle (notebooks, forums, etc)         NaN   \n",
       "1  ...         NaN                              NaN         NaN   \n",
       "\n",
       "                                         rrss_yotube  \\\n",
       "0  YouTube (Kaggle YouTube, Cloud AI Adventures, ...   \n",
       "1                                                NaN   \n",
       "\n",
       "                                        rrss_podcast  \\\n",
       "0  Podcasts (Chai Time Data Science, O’Reilly Dat...   \n",
       "1                                                NaN   \n",
       "\n",
       "                                          rrss_blogs  \\\n",
       "0  Blogs (Towards Data Science, Analytics Vidhya,...   \n",
       "1                                                NaN   \n",
       "\n",
       "                                        rrss_journal rrss_slackcommunity  \\\n",
       "0  Journal Publications (peer-reviewed journals, ...                 NaN   \n",
       "1  Journal Publications (peer-reviewed journals, ...                 NaN   \n",
       "\n",
       "  rrss_none rrss_others  \n",
       "0       NaN         NaN  \n",
       "1       NaN         NaN  \n",
       "\n",
       "[2 rows x 47 columns]"
      ]
     },
     "execution_count": 3,
     "metadata": {},
     "output_type": "execute_result"
    }
   ],
   "source": [
    "df.head(2)"
   ]
  },
  {
   "cell_type": "markdown",
   "metadata": {},
   "source": [
    "---"
   ]
  },
  {
   "cell_type": "code",
   "execution_count": null,
   "metadata": {},
   "outputs": [
    {
     "data": {
      "text/plain": [
       " GitHub     4586\n",
       "Name: publicaciones_github, dtype: int64"
      ]
     },
     "execution_count": 39,
     "metadata": {},
     "output_type": "execute_result"
    }
   ],
   "source": [
    "df[\"publicaciones_github\"].value_counts()"
   ]
  },
  {
   "cell_type": "code",
   "execution_count": null,
   "metadata": {},
   "outputs": [
    {
     "data": {
      "text/plain": [
       " Kaggle     3065\n",
       "Name: publicaciones_kaggle, dtype: int64"
      ]
     },
     "execution_count": 35,
     "metadata": {},
     "output_type": "execute_result"
    }
   ],
   "source": [
    "df[\"publicaciones_kaggle\"].value_counts()"
   ]
  },
  {
   "cell_type": "code",
   "execution_count": null,
   "metadata": {},
   "outputs": [
    {
     "data": {
      "text/html": [
       "<div>\n",
       "<style scoped>\n",
       "    .dataframe tbody tr th:only-of-type {\n",
       "        vertical-align: middle;\n",
       "    }\n",
       "\n",
       "    .dataframe tbody tr th {\n",
       "        vertical-align: top;\n",
       "    }\n",
       "\n",
       "    .dataframe thead th {\n",
       "        text-align: right;\n",
       "    }\n",
       "</style>\n",
       "<table border=\"1\" class=\"dataframe\">\n",
       "  <thead>\n",
       "    <tr style=\"text-align: right;\">\n",
       "      <th></th>\n",
       "      <th>Kaggle</th>\n",
       "      <th>Github</th>\n",
       "    </tr>\n",
       "  </thead>\n",
       "  <tbody>\n",
       "    <tr>\n",
       "      <th>0</th>\n",
       "      <td>3065</td>\n",
       "      <td>4586</td>\n",
       "    </tr>\n",
       "  </tbody>\n",
       "</table>\n",
       "</div>"
      ],
      "text/plain": [
       "   Kaggle  Github\n",
       "0    3065    4586"
      ]
     },
     "execution_count": 34,
     "metadata": {},
     "output_type": "execute_result"
    }
   ],
   "source": [
    "df_publicaciones= pd.DataFrame([{'Kaggle': 3065,\n",
    "     'Github': 4586}])\n",
    "df_publicaciones\n"
   ]
  },
  {
   "cell_type": "code",
   "execution_count": null,
   "metadata": {},
   "outputs": [
    {
     "data": {
      "text/plain": [
       "<AxesSubplot:>"
      ]
     },
     "execution_count": 36,
     "metadata": {},
     "output_type": "execute_result"
    },
    {
     "data": {
      "image/png": "[encoded data removed]",
      "text/plain": [
       "<Figure size 432x288 with 1 Axes>"
      ]
     },
     "metadata": {
      "needs_background": "light"
     },
     "output_type": "display_data"
    }
   ],
   "source": [
    "df_publicaciones.plot.bar()"
   ]
  },
  {
   "cell_type": "markdown",
   "metadata": {},
   "source": [
    "-----"
   ]
  },
  {
   "cell_type": "code",
   "execution_count": null,
   "metadata": {},
   "outputs": [
    {
     "data": {
      "text/plain": [
       "Index(['edad', 'genero', 'pais', 'educacion', 'perfil_profesional',\n",
       "       'experiencia_programando', 'herramientas_trabajo',\n",
       "       'año_uso_machine_learning', 'industria_actual', 'tamaño_compañía',\n",
       "       'trabajadores_datascience', 'salario', 'herramienta_analisis_datos',\n",
       "       'lenguajes_habituales', 'entorno_desarrollo',\n",
       "       'bibliotecas_visualización', 'herramientas_machine_learning',\n",
       "       'programas_big_data', 'herramientas_bi', 'notebooks_kaggle',\n",
       "       'notebooks_colab', 'publicaciones_github', 'publicaciones_kaggle',\n",
       "       'plat_coursera', 'plat_edx', 'plat_kaggle', 'plat_datacamp',\n",
       "       'plat_fast.ai', 'plat_udacity', 'plat_udemy', 'plat_linkedinlearning',\n",
       "       'plat_cloudcertification', 'plat_universitycourses', 'plat_ninguno',\n",
       "       'plat_otros', 'rrss_twitter', 'rrss_email/newsletters', 'rrss_reddit',\n",
       "       'rrss_kaggle', 'rrss_forums', 'rrss_yotube', 'rrss_podcast',\n",
       "       'rrss_blogs', 'rrss_journal', 'rrss_slackcommunity', 'rrss_none',\n",
       "       'rrss_others'],\n",
       "      dtype='object')"
      ]
     },
     "execution_count": 40,
     "metadata": {},
     "output_type": "execute_result"
    }
   ],
   "source": [
    "df.columns"
   ]
  },
  {
   "cell_type": "code",
   "execution_count": null,
   "metadata": {},
   "outputs": [
    {
     "data": {
      "text/plain": [
       "edX    3028\n",
       "Name: plat_edx, dtype: int64"
      ]
     },
     "execution_count": 51,
     "metadata": {},
     "output_type": "execute_result"
    }
   ],
   "source": [
    "df.plat_edx.value_counts()"
   ]
  },
  {
   "cell_type": "code",
   "execution_count": null,
   "metadata": {},
   "outputs": [
    {
     "data": {
      "text/plain": [
       "Kaggle Learn Courses    8670\n",
       "Name: plat_kaggle, dtype: int64"
      ]
     },
     "execution_count": 41,
     "metadata": {},
     "output_type": "execute_result"
    }
   ],
   "source": [
    "df.plat_kaggle.value_counts()"
   ]
  },
  {
   "cell_type": "code",
   "execution_count": null,
   "metadata": {},
   "outputs": [
    {
     "data": {
      "text/plain": [
       "DataCamp    3996\n",
       "Name: plat_datacamp, dtype: int64"
      ]
     },
     "execution_count": 42,
     "metadata": {},
     "output_type": "execute_result"
    }
   ],
   "source": [
    "df.plat_datacamp.value_counts()"
   ]
  },
  {
   "cell_type": "code",
   "execution_count": null,
   "metadata": {},
   "outputs": [
    {
     "data": {
      "text/plain": [
       "Fast.ai    1157\n",
       "Name: plat_fast.ai, dtype: int64"
      ]
     },
     "execution_count": 44,
     "metadata": {},
     "output_type": "execute_result"
    }
   ],
   "source": [
    "df[\"plat_fast.ai\"].value_counts()"
   ]
  },
  {
   "cell_type": "code",
   "execution_count": null,
   "metadata": {},
   "outputs": [
    {
     "data": {
      "text/plain": [
       "Udacity    2803\n",
       "Name: plat_udacity, dtype: int64"
      ]
     },
     "execution_count": 45,
     "metadata": {},
     "output_type": "execute_result"
    }
   ],
   "source": [
    "df.plat_udacity.value_counts()"
   ]
  },
  {
   "cell_type": "code",
   "execution_count": null,
   "metadata": {},
   "outputs": [
    {
     "data": {
      "text/plain": [
       "Udemy    6440\n",
       "Name: plat_udemy, dtype: int64"
      ]
     },
     "execution_count": 46,
     "metadata": {},
     "output_type": "execute_result"
    }
   ],
   "source": [
    "df.plat_udemy.value_counts()"
   ]
  },
  {
   "cell_type": "code",
   "execution_count": null,
   "metadata": {},
   "outputs": [
    {
     "data": {
      "text/plain": [
       "LinkedIn Learning    2693\n",
       "Name: plat_linkedinlearning, dtype: int64"
      ]
     },
     "execution_count": 47,
     "metadata": {},
     "output_type": "execute_result"
    }
   ],
   "source": [
    "df.plat_linkedinlearning.value_counts()"
   ]
  },
  {
   "cell_type": "code",
   "execution_count": null,
   "metadata": {},
   "outputs": [
    {
     "data": {
      "text/plain": [
       "Cloud-certification programs (direct from AWS, Azure, GCP, or similar)    1804\n",
       "Name: plat_cloudcertification, dtype: int64"
      ]
     },
     "execution_count": 48,
     "metadata": {},
     "output_type": "execute_result"
    }
   ],
   "source": [
    "df.plat_cloudcertification.value_counts()"
   ]
  },
  {
   "cell_type": "code",
   "execution_count": null,
   "metadata": {},
   "outputs": [
    {
     "data": {
      "text/plain": [
       "University Courses (resulting in a university degree)    4882\n",
       "Name: plat_universitycourses, dtype: int64"
      ]
     },
     "execution_count": 49,
     "metadata": {},
     "output_type": "execute_result"
    }
   ],
   "source": [
    "df.plat_universitycourses.value_counts()"
   ]
  },
  {
   "cell_type": "code",
   "execution_count": null,
   "metadata": {},
   "outputs": [
    {
     "data": {
      "text/plain": [
       "Other    2081\n",
       "Name: plat_otros, dtype: int64"
      ]
     },
     "execution_count": 50,
     "metadata": {},
     "output_type": "execute_result"
    }
   ],
   "source": [
    "df.plat_otros.value_counts()"
   ]
  },
  {
   "cell_type": "code",
   "execution_count": null,
   "metadata": {},
   "outputs": [
    {
     "data": {
      "text/html": [
       "<div>\n",
       "<style scoped>\n",
       "    .dataframe tbody tr th:only-of-type {\n",
       "        vertical-align: middle;\n",
       "    }\n",
       "\n",
       "    .dataframe tbody tr th {\n",
       "        vertical-align: top;\n",
       "    }\n",
       "\n",
       "    .dataframe thead th {\n",
       "        text-align: right;\n",
       "    }\n",
       "</style>\n",
       "<table border=\"1\" class=\"dataframe\">\n",
       "  <thead>\n",
       "    <tr style=\"text-align: right;\">\n",
       "      <th></th>\n",
       "      <th>edX</th>\n",
       "      <th>Kaggle Learn Courses</th>\n",
       "      <th>DataCamp</th>\n",
       "      <th>Fast.ai</th>\n",
       "      <th>Udacity</th>\n",
       "      <th>Udemy</th>\n",
       "      <th>LinkedIn Learning</th>\n",
       "      <th>from AWS, Azure</th>\n",
       "      <th>University Courses</th>\n",
       "      <th>Other</th>\n",
       "    </tr>\n",
       "  </thead>\n",
       "  <tbody>\n",
       "    <tr>\n",
       "      <th>0</th>\n",
       "      <td>3028</td>\n",
       "      <td>8670</td>\n",
       "      <td>3996</td>\n",
       "      <td>1157</td>\n",
       "      <td>2803</td>\n",
       "      <td>6440</td>\n",
       "      <td>2693</td>\n",
       "      <td>1804</td>\n",
       "      <td>4882</td>\n",
       "      <td>2081</td>\n",
       "    </tr>\n",
       "  </tbody>\n",
       "</table>\n",
       "</div>"
      ],
      "text/plain": [
       "    edX  Kaggle Learn Courses  DataCamp  Fast.ai  Udacity  Udemy  \\\n",
       "0  3028                  8670      3996     1157     2803   6440   \n",
       "\n",
       "   LinkedIn Learning  from AWS, Azure  University Courses  Other  \n",
       "0               2693             1804                4882   2081  "
      ]
     },
     "execution_count": 52,
     "metadata": {},
     "output_type": "execute_result"
    }
   ],
   "source": [
    "df_plataformas=pd.DataFrame([{\"edX\":3028, \"Kaggle Learn Courses\":8670,\"DataCamp\" :3996,\"Fast.ai\":1157,\"Udacity\":2803,\n",
    " \"Udemy\":6440, \"LinkedIn Learning\":2693, \"from AWS, Azure\":1804,\"University Courses\":4882, \"Other\":2081 }])\n",
    "df_plataformas"
   ]
  },
  {
   "cell_type": "code",
   "execution_count": null,
   "metadata": {},
   "outputs": [
    {
     "data": {
      "text/plain": [
       "<AxesSubplot:>"
      ]
     },
     "execution_count": 53,
     "metadata": {},
     "output_type": "execute_result"
    },
    {
     "data": {
      "image/png": "[encoded data removed]",
      "text/plain": [
       "<Figure size 432x288 with 1 Axes>"
      ]
     },
     "metadata": {
      "needs_background": "light"
     },
     "output_type": "display_data"
    }
   ],
   "source": [
    "df_plataformas.plot.bar()"
   ]
  },
  {
   "cell_type": "markdown",
   "metadata": {},
   "source": [
    "---"
   ]
  },
  {
   "cell_type": "markdown",
   "metadata": {},
   "source": [
    "PROBAR  AQUI POR SEPARAR COSAS DE COLUMNAS"
   ]
  },
  {
   "cell_type": "code",
   "execution_count": null,
   "metadata": {},
   "outputs": [],
   "source": [
    "# df_new.entorno_desarrollo.unique() \n",
    "# df_new.bibliotecas_visualización.unique() \n",
    "# df_new.herramientas_machine_learning.unique() \n",
    "# df_new.programas_big_data.unique() \n",
    "# df_new.programas_big_data.unique()"
   ]
  },
  {
   "cell_type": "markdown",
   "metadata": {},
   "source": [
    "    Que hacer con esta columna"
   ]
  },
  {
   "cell_type": "code",
   "execution_count": null,
   "metadata": {},
   "outputs": [
    {
     "data": {
      "text/plain": [
       "array([' Vim / Emacs', ' Notepad++,Jupyter Notebook',\n",
       "       'PyCharm ,Jupyter Notebook, Other', ...,\n",
       "       'Visual Studio ,Visual Studio Code (VSCode) , Notepad++, Vim / Emacs,MATLAB ,Jupyter Notebook',\n",
       "       'RStudio ,Visual Studio ,PyCharm , Spyder',\n",
       "       'RStudio ,Visual Studio ,Visual Studio Code (VSCode) , Notepad++, Vim / Emacs'],\n",
       "      dtype=object)"
      ]
     },
     "execution_count": 5,
     "metadata": {},
     "output_type": "execute_result"
    }
   ],
   "source": [
    "df.entorno_desarrollo.unique() "
   ]
  },
  {
   "cell_type": "code",
   "execution_count": null,
   "metadata": {},
   "outputs": [],
   "source": [
    "patron= re.python.match\n",
    "def pyhton(col):\n",
    "    try:\n",
    "        if re.findall(patron.findall('Python'), col):\n",
    "            return \"python\"\n",
    "    except:\n",
    "        pass\n",
    "\n"
   ]
  },
  {
   "cell_type": "code",
   "execution_count": null,
   "metadata": {},
   "outputs": [],
   "source": [
    "df.entorno_desarrollo.unique() "
   ]
  },
  {
   "cell_type": "markdown",
   "metadata": {},
   "source": [
    "-----"
   ]
  },
  {
   "cell_type": "markdown",
   "metadata": {},
   "source": [
    "# PRUEBAS CON SALARIO"
   ]
  },
  {
   "cell_type": "code",
   "execution_count": 1,
   "metadata": {},
   "outputs": [
    {
     "ename": "NameError",
     "evalue": "name 'df' is not defined",
     "output_type": "error",
     "traceback": [
      "\u001b[0;31m---------------------------------------------------------------------------\u001b[0m",
      "\u001b[0;31mNameError\u001b[0m                                 Traceback (most recent call last)",
      "\u001b[0;32m/var/folders/rp/8_fhdgqx4mv2kkv4dswj4tq40000gn/T/ipykernel_5177/3370445332.py\u001b[0m in \u001b[0;36m<module>\u001b[0;34m\u001b[0m\n\u001b[0;32m----> 1\u001b[0;31m \u001b[0mdf\u001b[0m\u001b[0;34m.\u001b[0m\u001b[0msalario\u001b[0m\u001b[0;34m.\u001b[0m\u001b[0munique\u001b[0m\u001b[0;34m(\u001b[0m\u001b[0;34m)\u001b[0m\u001b[0;34m\u001b[0m\u001b[0;34m\u001b[0m\u001b[0m\n\u001b[0m",
      "\u001b[0;31mNameError\u001b[0m: name 'df' is not defined"
     ]
    }
   ],
   "source": [
    "df.salario.unique()"
   ]
  }
 ],
 "metadata": {
  "interpreter": {
   "hash": "40d3a090f54c6569ab1632332b64b2c03c39dcf918b08424e98f38b5ae0af88f"
  },
  "kernelspec": {
   "display_name": "Python 3.9.7 ('base')",
   "language": "python",
   "name": "python3"
  },
  "language_info": {
   "codemirror_mode": {
    "name": "ipython",
    "version": 3
   },
   "file_extension": ".py",
   "mimetype": "text/x-python",
   "name": "python",
   "nbconvert_exporter": "python",
   "pygments_lexer": "ipython3",
   "version": "3.9.7"
  },
  "orig_nbformat": 4
 },
 "nbformat": 4,
 "nbformat_minor": 2
}
