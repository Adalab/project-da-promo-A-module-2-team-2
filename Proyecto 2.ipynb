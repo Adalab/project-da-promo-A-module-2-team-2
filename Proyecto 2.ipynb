{
 "cells": [
  {
   "cell_type": "code",
   "execution_count": null,
   "metadata": {},
   "outputs": [],
   "source": [
    "import pandas as pd"
   ]
  },
  {
   "cell_type": "markdown",
   "metadata": {},
   "source": [
    "Leer txt en csv para y revisar que información contiene"
   ]
  },
  {
   "cell_type": "code",
   "execution_count": null,
   "metadata": {},
   "outputs": [],
   "source": [
    "archivo_txt = pd.read_csv(\"/Users/lidiacarriedoponce/Desktop/project-da-promo-A-module-2-team-2/archivos descargados/data_txt_clean.txt\", sep= \";\")\n",
    "archivo_txt.head()"
   ]
  },
  {
   "cell_type": "markdown",
   "metadata": {},
   "source": [
    "Leer csv para revisar su contenido"
   ]
  },
  {
   "cell_type": "code",
   "execution_count": null,
   "metadata": {},
   "outputs": [],
   "source": [
    "archivo_csv = pd.read_csv(\"./exported_db_data.csv\")\n",
    "archivo_csv.head()"
   ]
  },
  {
   "cell_type": "markdown",
   "metadata": {},
   "source": [
    "Leer xml para revisar su contenido"
   ]
  },
  {
   "cell_type": "code",
   "execution_count": null,
   "metadata": {},
   "outputs": [],
   "source": [
    "archivo_xml = pd.read_csv(\"./data_xml_clean.xml\")\n",
    "archivo_xml.head()"
   ]
  },
  {
   "cell_type": "markdown",
   "metadata": {},
   "source": [
    "Extraer información de xml para mejor adaptación a Csv."
   ]
  },
  {
   "cell_type": "code",
   "execution_count": null,
   "metadata": {},
   "outputs": [],
   "source": [
    "import xml.etree.ElementTree as ET\n",
    "\n",
    "archivo_xml = pd.read_csv(\"./data_xml_clean.xml\")\n",
    "archivo_xml.head(4)\n",
    "\n",
    "import xml.etree.ElementTree as ET\n",
    "\n",
    "tree = ET.parse(\"data_xml_clean.xml\")\n",
    "root = tree.getroot()\n",
    "\n",
    "\n",
    "edad = []\n",
    "time = []\n",
    "gender = []\n",
    "index = []\n",
    "\n",
    "for child in root:\n",
    "    for subchild in child:\n",
    "        for subsubchild in subchild:\n",
    "            if subchild.tag == \"age\":\n",
    "                edad = edad.append(subchild.text)\n",
    "            elif subchild.tag == \"time\":\n",
    "                time = time.append(subchild.text)\n",
    "            elif subchild.tag == \"gender\":\n",
    "                gender = gender.append(subchild.text)\n",
    "            elif subchild.tag == \"index\":\n",
    "                index = index.append(subchild.text)\n",
    "        print(edad)\n"
   ]
  },
  {
   "cell_type": "markdown",
   "metadata": {},
   "source": [
    "Unir los 3 archivos ( txt,csv y xml) en un CVS"
   ]
  },
  {
   "cell_type": "code",
   "execution_count": null,
   "metadata": {},
   "outputs": [],
   "source": [
    "\n",
    "# set files path\n",
    "archivo_txt = \"./data_txt_clean.csv\"\n",
    "archivo_csv = \"./exported_db_data.csv\"\n",
    "archivo_xml = \"./data_xml_clean.csv\"\n",
    "\n",
    "\n",
    "# merge files\n",
    "dataFrame = pd.concat(\n",
    "   map(pd.read_csv, [archivo_xml, archivo_txt, archivo_csv]), ignore_index=True)\n",
    "dataFrame"
   ]
  },
  {
   "cell_type": "markdown",
   "metadata": {},
   "source": [
    "- Visualizar nuevo cvs\n",
    "- Visualizar todas las columnas con pd.options.display.max_columns = None \n",
    "- Extraer la info del nuevo DF df.info\n",
    "- Extraer datos estadisticos df.describe\n",
    "- ver null que podamos encontrar dfisnull().sum()\n",
    "- Borrar filas o columnas del (este metodo solo elimina de uno en uno)o drop(este lo hace todo a la vez)\n",
    "- Homogeneizar las columnas \n",
    "- Elegir el índice de las columnas\n",
    "- \n"
   ]
  }
 ],
 "metadata": {
  "interpreter": {
   "hash": "40d3a090f54c6569ab1632332b64b2c03c39dcf918b08424e98f38b5ae0af88f"
  },
  "kernelspec": {
   "display_name": "Python 3.9.7 ('base')",
   "language": "python",
   "name": "python3"
  },
  "language_info": {
   "codemirror_mode": {
    "name": "ipython",
    "version": 3
   },
   "file_extension": ".py",
   "mimetype": "text/x-python",
   "name": "python",
   "nbconvert_exporter": "python",
   "pygments_lexer": "ipython3",
   "version": "3.9.7"
  },
  "orig_nbformat": 4
 },
 "nbformat": 4,
 "nbformat_minor": 2
}
