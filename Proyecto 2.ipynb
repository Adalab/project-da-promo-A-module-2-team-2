{
 "cells": [
  {
   "cell_type": "code",
   "execution_count": 21,
   "metadata": {},
   "outputs": [
    {
     "ename": "AttributeError",
     "evalue": "'str' object has no attribute 'to_csv'",
     "output_type": "error",
     "traceback": [
      "\u001b[0;31m---------------------------------------------------------------------------\u001b[0m",
      "\u001b[0;31mAttributeError\u001b[0m                            Traceback (most recent call last)",
      "\u001b[0;32m/var/folders/rp/8_fhdgqx4mv2kkv4dswj4tq40000gn/T/ipykernel_3202/514498610.py\u001b[0m in \u001b[0;36m<module>\u001b[0;34m\u001b[0m\n\u001b[1;32m      5\u001b[0m     \u001b[0marchivo\u001b[0m\u001b[0;34m.\u001b[0m\u001b[0mto_csv\u001b[0m\u001b[0;34m(\u001b[0m\u001b[0;34m\"archivo.csv\"\u001b[0m\u001b[0;34m)\u001b[0m\u001b[0;34m\u001b[0m\u001b[0;34m\u001b[0m\u001b[0m\n\u001b[1;32m      6\u001b[0m \u001b[0;34m\u001b[0m\u001b[0m\n\u001b[0;32m----> 7\u001b[0;31m \u001b[0mguardar_csv\u001b[0m\u001b[0;34m(\u001b[0m\u001b[0;34m\"/Users/lidiacarriedoponce/Desktop/Modulo 2 -Numpy_Pandas_/Proyecto 2/data_xml_clean.xml\"\u001b[0m\u001b[0;34m)\u001b[0m\u001b[0;34m\u001b[0m\u001b[0;34m\u001b[0m\u001b[0m\n\u001b[0m",
      "\u001b[0;32m/var/folders/rp/8_fhdgqx4mv2kkv4dswj4tq40000gn/T/ipykernel_3202/514498610.py\u001b[0m in \u001b[0;36mguardar_csv\u001b[0;34m(archivo)\u001b[0m\n\u001b[1;32m      3\u001b[0m \u001b[0;32mdef\u001b[0m \u001b[0mguardar_csv\u001b[0m \u001b[0;34m(\u001b[0m\u001b[0marchivo\u001b[0m\u001b[0;34m)\u001b[0m\u001b[0;34m:\u001b[0m\u001b[0;34m\u001b[0m\u001b[0;34m\u001b[0m\u001b[0m\n\u001b[1;32m      4\u001b[0m     \u001b[0mpd\u001b[0m\u001b[0;34m.\u001b[0m\u001b[0mread_excel\u001b[0m\u001b[0;34m\u001b[0m\u001b[0;34m\u001b[0m\u001b[0m\n\u001b[0;32m----> 5\u001b[0;31m     \u001b[0marchivo\u001b[0m\u001b[0;34m.\u001b[0m\u001b[0mto_csv\u001b[0m\u001b[0;34m(\u001b[0m\u001b[0;34m\"archivo.csv\"\u001b[0m\u001b[0;34m)\u001b[0m\u001b[0;34m\u001b[0m\u001b[0;34m\u001b[0m\u001b[0m\n\u001b[0m\u001b[1;32m      6\u001b[0m \u001b[0;34m\u001b[0m\u001b[0m\n\u001b[1;32m      7\u001b[0m \u001b[0mguardar_csv\u001b[0m\u001b[0;34m(\u001b[0m\u001b[0;34m\"/Users/lidiacarriedoponce/Desktop/Modulo 2 -Numpy_Pandas_/Proyecto 2/data_xml_clean.xml\"\u001b[0m\u001b[0;34m)\u001b[0m\u001b[0;34m\u001b[0m\u001b[0;34m\u001b[0m\u001b[0m\n",
      "\u001b[0;31mAttributeError\u001b[0m: 'str' object has no attribute 'to_csv'"
     ]
    }
   ],
   "source": [
    "import pandas as pd\n",
    "\n",
    "\n",
    "\n",
    "def guardar_csv (archivo):\n",
    "    archivo = pd.read_csv(\"/Users/lidiacarriedoponce/Desktop/Modulo 2 -Numpy_Pandas_/Proyecto 2/data_txt_clean.txt\")\n",
    "    archivo.to_csv(\"archivo.csv\")\n",
    "\n",
    "guardar_csv()\n"
   ]
  },
  {
   "cell_type": "code",
   "execution_count": null,
   "metadata": {},
   "outputs": [],
   "source": [
    "archivo_csv = pd.read_csv(\"/Users/lidiacarriedoponce/Desktop/Modulo 2 -Numpy_Pandas_/Proyecto 2/exported_db_data.csv\")\n",
    "archivo_csv.head(4)\n"
   ]
  },
  {
   "cell_type": "code",
   "execution_count": null,
   "metadata": {},
   "outputs": [],
   "source": [
    "archivo_xml = pd.read_csv(\"/Users/lidiacarriedoponce/Desktop/Modulo 2 -Numpy_Pandas_/Proyecto 2/data_xml_clean.xml\")\n",
    "#archivo_xml.to_csv(\"/Users/lidiacarriedoponce/Desktop/Modulo 2 -Numpy_Pandas_/Proyecto 2/data_xml_clean.csv\")\n",
    "archivo_xml.head(10)\n",
    "archivo_xml.to_csv(\"xml_csv.csv\")"
   ]
  },
  {
   "cell_type": "code",
   "execution_count": 20,
   "metadata": {},
   "outputs": [],
   "source": [
    "archivo_txt = pd.read_csv (\"/Users/lidiacarriedoponce/Desktop/Modulo 2 -Numpy_Pandas_/Proyecto 2/data_txt_clean.txt\", sep= \";\")\n",
    "archivo_txt.head(4)\n",
    "archivo_txt.to_csv(\"txt_csv.csv\")"
   ]
  },
  {
   "cell_type": "code",
   "execution_count": 14,
   "metadata": {},
   "outputs": [
    {
     "name": "stdout",
     "output_type": "stream",
     "text": [
      "/home/adalaber/Escritorio/MODULO2/project-da-promo-A-module-2-team-2/archivos_descargados\n",
      "['exported_db_data.csv', 'data_txt_clean.txt', 'data_xml_clean.xml']\n"
     ]
    },
    {
     "ename": "FileNotFoundError",
     "evalue": "[Errno 2] No such file or directory: 'archivos_descargados'",
     "output_type": "error",
     "traceback": [
      "\u001b[0;31m---------------------------------------------------------------------------\u001b[0m",
      "\u001b[0;31mFileNotFoundError\u001b[0m                         Traceback (most recent call last)",
      "\u001b[1;32m/home/adalaber/Escritorio/MODULO2/project-da-promo-A-module-2-team-2/Proyecto 2.ipynb Cell 5'\u001b[0m in \u001b[0;36m<cell line: 6>\u001b[0;34m()\u001b[0m\n\u001b[1;32m      <a href='vscode-notebook-cell:/home/adalaber/Escritorio/MODULO2/project-da-promo-A-module-2-team-2/Proyecto%202.ipynb#ch0000004?line=3'>4</a>\u001b[0m \u001b[39mprint\u001b[39m(os\u001b[39m.\u001b[39mgetcwd())\n\u001b[1;32m      <a href='vscode-notebook-cell:/home/adalaber/Escritorio/MODULO2/project-da-promo-A-module-2-team-2/Proyecto%202.ipynb#ch0000004?line=4'>5</a>\u001b[0m \u001b[39mprint\u001b[39m(os\u001b[39m.\u001b[39mlistdir())\n\u001b[0;32m----> <a href='vscode-notebook-cell:/home/adalaber/Escritorio/MODULO2/project-da-promo-A-module-2-team-2/Proyecto%202.ipynb#ch0000004?line=5'>6</a>\u001b[0m os\u001b[39m.\u001b[39;49mchdir(\u001b[39m'\u001b[39;49m\u001b[39marchivos_descargados\u001b[39;49m\u001b[39m'\u001b[39;49m)\n\u001b[1;32m      <a href='vscode-notebook-cell:/home/adalaber/Escritorio/MODULO2/project-da-promo-A-module-2-team-2/Proyecto%202.ipynb#ch0000004?line=6'>7</a>\u001b[0m \u001b[39mprint\u001b[39m(os\u001b[39m.\u001b[39mgetcwd())\n\u001b[1;32m      <a href='vscode-notebook-cell:/home/adalaber/Escritorio/MODULO2/project-da-promo-A-module-2-team-2/Proyecto%202.ipynb#ch0000004?line=7'>8</a>\u001b[0m archivo \u001b[39m=\u001b[39m (\u001b[39m'\u001b[39m\u001b[39marchivos_descargados/data_txt_clean.txt\u001b[39m\u001b[39m'\u001b[39m)\n",
      "\u001b[0;31mFileNotFoundError\u001b[0m: [Errno 2] No such file or directory: 'archivos_descargados'"
     ]
    }
   ],
   "source": [
    "import pandas as pd\n",
    "import os\n",
    "\n",
    "print(os.getcwd())\n",
    "print(os.listdir())\n",
    "#os.chdir('archivos_descargados')\n",
    "print(os.getcwd())\n",
    "archivo = ('data_txt_clean.txt')\n",
    "\n",
    "for file in archivo:\n",
    "    nombre,extension = file.split('.')\n",
    "    file.to_csv(\"'\" + nombre + '.csv' + \"'\")\n",
    "\n",
    "\n",
    "# for fichero in archivo:\n",
    "#     split1,split2 = archivo.split('/')\n",
    "#     nombre,extension = .split('.')\n",
    "#     #fichero.to_csv(\"'\"+ nombre + '.csv'+ \"'\")"
   ]
  }
 ],
 "metadata": {
  "interpreter": {
   "hash": "40d3a090f54c6569ab1632332b64b2c03c39dcf918b08424e98f38b5ae0af88f"
  },
  "kernelspec": {
   "display_name": "Python 3.9.7 ('base')",
   "language": "python",
   "name": "python3"
  },
  "language_info": {
   "codemirror_mode": {
    "name": "ipython",
    "version": 3
   },
   "file_extension": ".py",
   "mimetype": "text/x-python",
   "name": "python",
   "nbconvert_exporter": "python",
   "pygments_lexer": "ipython3",
   "version": "3.8.10"
  },
  "orig_nbformat": 4
 },
 "nbformat": 4,
 "nbformat_minor": 2
}
